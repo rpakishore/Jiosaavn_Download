{
 "cells": [
  {
   "cell_type": "code",
   "execution_count": 32,
   "metadata": {},
   "outputs": [],
   "source": [
    "import requests\n",
    "import time, eyed3\n",
    "import unicodedata"
   ]
  },
  {
   "cell_type": "code",
   "execution_count": 11,
   "metadata": {},
   "outputs": [],
   "source": [
    "data = res.json()['songs'][0]"
   ]
  },
  {
   "cell_type": "code",
   "execution_count": 7,
   "metadata": {},
   "outputs": [],
   "source": [
    "res = requests.get('http://192.168.107.5:9027/result/?query=https://www.jiosaavn.com/featured/tamil_chartbusters/1HiqW,xnqZRieSJqt9HmOQ__')"
   ]
  },
  {
   "cell_type": "code",
   "execution_count": 5,
   "metadata": {},
   "outputs": [],
   "source": [
    "def download_file(url):\n",
    "    local_filename = url.split('/')[-1]\n",
    "    \n",
    "    with requests.get(url, stream=True) as r:\n",
    "        r.raise_for_status()\n",
    "        with open(local_filename, 'wb') as f:\n",
    "            for chunk in r.iter_content(chunk_size=8192): \n",
    "                f.write(chunk)\n",
    "    return local_filename\n"
   ]
  },
  {
   "cell_type": "code",
   "execution_count": 31,
   "metadata": {},
   "outputs": [],
   "source": [
    "audiofile = eyed3.load(filename)\n",
    "audiofile.initTag()\n",
    "audiofile.tag.artist = data['primary_artists']\n",
    "audiofile.tag.album = data['album']\n",
    "audiofile.tag.album_artist= ', '.join(list(data['artistMap'].keys()))\n",
    "audiofile.tag.title = data['song']\n",
    "#audiofile.tag.frames = eyed3.id3.frames.ImageFrame(image_url=data['image'])\n",
    "audiofile.tag.year = data['year']\n",
    "audiofile.tag.save()\n",
    "\n",
    "# Get image from the Internet\n",
    "response = requests.get(data['image'])\n",
    "imagedata = response.content\n",
    "audiofile.tag.images.set(3, imagedata, \"image/jpeg\", u\"cover\")\n",
    "audiofile.tag.save()"
   ]
  },
  {
   "cell_type": "code",
   "execution_count": 17,
   "metadata": {},
   "outputs": [
    {
     "data": {
      "text/plain": [
       "{'320kbps': 'true',\n",
       " 'album': \"Arabic Kuthu - Halamithi Habibo (From 'Beast')\",\n",
       " 'album_url': 'https://www.jiosaavn.com/album/arabic-kuthu---halamithi-habibo-from-beast/C-634lwNaks_',\n",
       " 'albumid': '32891851',\n",
       " 'artistMap': {'Anirudh Ravichander': '455663',\n",
       "  'Jonita Gandhi': '672010',\n",
       "  'Sivakarthikeyan': '660015'},\n",
       " 'cache_state': 'false',\n",
       " 'copyright_text': '(P) 2021 Sun Pictures',\n",
       " 'duration': '279',\n",
       " 'encrypted_media_path': 'NMKyboFo/Fi6/jCH0uXNg4HGGg64TEAL2bsgE0UxVwj3ORbXkBsQZUXfu2ZFizMM',\n",
       " 'encrypted_media_url': 'ID2ieOjCrwfgWvL5sXl4B1ImC5QfbsDyJ5w4fEtH3HqHNtAtXI+whEwp8Fr8I0TIZrm+KvHBhow7EzwfJPap3hw7tS9a8Gtq',\n",
       " 'explicit_content': 0,\n",
       " 'featured_artists': '',\n",
       " 'featured_artists_id': '',\n",
       " 'has_lyrics': 'true',\n",
       " 'id': 'NyeKMYvB',\n",
       " 'image': 'https://c.saavncdn.com/629/Arabic-Kuthu-Halamithi-Habibo-From-Beast--Tamil-2022-20220223183836-500x500.jpg',\n",
       " 'is_dolby_content': False,\n",
       " 'label': 'Sun Pictures',\n",
       " 'label_url': '/label/sun-pictures-albums/x8IWFHp-4js_',\n",
       " 'language': 'tamil',\n",
       " 'lyrics_snippet': 'null',\n",
       " 'media_preview_url': 'https://preview.saavncdn.com/629/568caafa3d60b7ebb722011daededa34_96_p.mp4',\n",
       " 'media_url': 'https://aac.saavncdn.com/629/568caafa3d60b7ebb722011daededa34_320.mp4',\n",
       " 'music': 'Anirudh Ravichander, Sivakarthikeyan',\n",
       " 'music_id': '455663, 660015',\n",
       " 'origin': 'playlist',\n",
       " 'perma_url': 'https://www.jiosaavn.com/song/arabic-kuthu---halamithi-habibo-from-beast/PhEOejlpQXE',\n",
       " 'play_count': '12654734',\n",
       " 'primary_artists': 'Anirudh Ravichander, Jonita Gandhi',\n",
       " 'primary_artists_id': '455663, 672010',\n",
       " 'release_date': '2022-02-14',\n",
       " 'rights': {'cacheable': True,\n",
       "  'code': 0,\n",
       "  'delete_cached_object': False,\n",
       "  'reason': ''},\n",
       " 'singers': 'Anirudh Ravichander, Jonita Gandhi',\n",
       " 'song': \"Arabic Kuthu - Halamithi Habibo (From 'Beast')\",\n",
       " 'starred': 'false',\n",
       " 'starring': '',\n",
       " 'triller_available': False,\n",
       " 'type': '',\n",
       " 'vcode': '010910621516845',\n",
       " 'vlink': 'https://jiotunepreview.jio.com/content/Converted/010910621473870.mp3',\n",
       " 'webp': True,\n",
       " 'year': '2022'}"
      ]
     },
     "execution_count": 17,
     "metadata": {},
     "output_type": "execute_result"
    }
   ],
   "source": [
    "data"
   ]
  },
  {
   "cell_type": "code",
   "execution_count": 29,
   "metadata": {},
   "outputs": [
    {
     "name": "stdout",
     "output_type": "stream",
     "text": [
      "Downloading from https://aac.saavncdn.com/629/568caafa3d60b7ebb722011daededa34_320.mp4 to 568caafa3d60b7ebb722011daededa34_320.mp3\n",
      "Download completed (4.27 MB) in 18.4 sec(s) at 0.2 MB/s\n"
     ]
    }
   ],
   "source": [
    "from ffmpy import FFmpeg\n",
    "import os\n",
    "def download_song(url):\n",
    "    local_filename = url.split('/')[-1]\n",
    "    name, ext = os.path.splitext(local_filename)\n",
    "    final_file = name + '.mp3'\n",
    "    \n",
    "    print(f\"Downloading from {url} to {final_file}\")\n",
    "    start = time.time()\n",
    "    FFmpeg(\n",
    "        inputs={url:None},\n",
    "        outputs={final_file: None}\n",
    "    ).run()\n",
    "\n",
    "    size = os.path.getsize(final_file)/(1024*1024)  #In MB\n",
    "    time_taken = time.time() - start\n",
    "    print(f\"Download completed ({round(size,2)} MB) in {round(time_taken,1)} sec(s) at {round(size/time_taken, 1)} MB/s\")\n",
    "    return final_file\n",
    "filename = download_song('https://aac.saavncdn.com/629/568caafa3d60b7ebb722011daededa34_320.mp4')"
   ]
  }
 ],
 "metadata": {
  "interpreter": {
   "hash": "c8dfad82ba48c90ad1ffdd38686a1e75cc617adf1fbe42a6a6529e5be4aa2b20"
  },
  "kernelspec": {
   "display_name": "Python 3.10.5 ('venv': venv)",
   "language": "python",
   "name": "python3"
  },
  "language_info": {
   "codemirror_mode": {
    "name": "ipython",
    "version": 3
   },
   "file_extension": ".py",
   "mimetype": "text/x-python",
   "name": "python",
   "nbconvert_exporter": "python",
   "pygments_lexer": "ipython3",
   "version": "3.10.5"
  },
  "orig_nbformat": 4
 },
 "nbformat": 4,
 "nbformat_minor": 2
}
